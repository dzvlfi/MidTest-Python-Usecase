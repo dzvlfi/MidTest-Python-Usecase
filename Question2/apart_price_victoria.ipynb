{
 "cells": [
  {
   "cell_type": "code",
   "execution_count": 1,
   "metadata": {},
   "outputs": [
    {
     "name": "stderr",
     "output_type": "stream",
     "text": [
      "/anaconda2/envs/py36/lib/python3.6/site-packages/statsmodels/compat/pandas.py:56: FutureWarning: The pandas.core.datetools module is deprecated and will be removed in a future version. Please use the pandas.tseries module instead.\n",
      "  from pandas.core import datetools\n"
     ]
    }
   ],
   "source": [
    "import pandas as pd\n",
    "import numpy as np \n",
    "\n",
    "#Statistics Module \n",
    "from scipy.stats import chi2\n",
    "from scipy.stats import chi2_contingency\n",
    "from scipy.stats import anderson, shapiro\n",
    "import statsmodels.api as sm \n",
    "from statsmodels.formula.api import ols\n",
    "from scipy import stats\n",
    "import pylab\n",
    "from collections import Counter\n",
    "\n",
    "#visualization\n",
    "import matplotlib.pyplot as plt \n",
    "import seaborn as sns \n",
    "\n",
    "%matplotlib inline\n",
    "import warnings\n",
    "warnings.filterwarnings(\"ignore\")"
   ]
  },
  {
   "cell_type": "markdown",
   "metadata": {},
   "source": [
    "## I. Import Dataset: Load the dataset."
   ]
  },
  {
   "cell_type": "code",
   "execution_count": 2,
   "metadata": {},
   "outputs": [
    {
     "data": {
      "text/html": [
       "<div>\n",
       "<style scoped>\n",
       "    .dataframe tbody tr th:only-of-type {\n",
       "        vertical-align: middle;\n",
       "    }\n",
       "\n",
       "    .dataframe tbody tr th {\n",
       "        vertical-align: top;\n",
       "    }\n",
       "\n",
       "    .dataframe thead th {\n",
       "        text-align: right;\n",
       "    }\n",
       "</style>\n",
       "<table border=\"1\" class=\"dataframe\">\n",
       "  <thead>\n",
       "    <tr style=\"text-align: right;\">\n",
       "      <th></th>\n",
       "      <th>row.labels</th>\n",
       "      <th>totalprice</th>\n",
       "      <th>area</th>\n",
       "      <th>zone</th>\n",
       "      <th>category</th>\n",
       "      <th>age</th>\n",
       "      <th>floor</th>\n",
       "      <th>rooms</th>\n",
       "      <th>out</th>\n",
       "      <th>conservation</th>\n",
       "      <th>toilets</th>\n",
       "      <th>garage</th>\n",
       "      <th>elevator</th>\n",
       "      <th>streetcategory</th>\n",
       "      <th>heating</th>\n",
       "      <th>tras</th>\n",
       "    </tr>\n",
       "  </thead>\n",
       "  <tbody>\n",
       "    <tr>\n",
       "      <th>0</th>\n",
       "      <td>1</td>\n",
       "      <td>228000.0</td>\n",
       "      <td>7.531000e+09</td>\n",
       "      <td>Z45</td>\n",
       "      <td>4B</td>\n",
       "      <td>33</td>\n",
       "      <td>3</td>\n",
       "      <td>5</td>\n",
       "      <td>E100</td>\n",
       "      <td>C</td>\n",
       "      <td>1</td>\n",
       "      <td>0</td>\n",
       "      <td>1</td>\n",
       "      <td>S3</td>\n",
       "      <td>3A</td>\n",
       "      <td>0</td>\n",
       "    </tr>\n",
       "    <tr>\n",
       "      <th>1</th>\n",
       "      <td>2</td>\n",
       "      <td>409000.0</td>\n",
       "      <td>1.006500e+09</td>\n",
       "      <td>Z31</td>\n",
       "      <td>3B</td>\n",
       "      <td>5</td>\n",
       "      <td>7</td>\n",
       "      <td>5</td>\n",
       "      <td>E50</td>\n",
       "      <td>A</td>\n",
       "      <td>2</td>\n",
       "      <td>1</td>\n",
       "      <td>1</td>\n",
       "      <td>S5</td>\n",
       "      <td>4A</td>\n",
       "      <td>1</td>\n",
       "    </tr>\n",
       "    <tr>\n",
       "      <th>2</th>\n",
       "      <td>3</td>\n",
       "      <td>200000.0</td>\n",
       "      <td>8.887000e+09</td>\n",
       "      <td>Z52</td>\n",
       "      <td>3A</td>\n",
       "      <td>14</td>\n",
       "      <td>8</td>\n",
       "      <td>5</td>\n",
       "      <td>E50</td>\n",
       "      <td>A</td>\n",
       "      <td>2</td>\n",
       "      <td>0</td>\n",
       "      <td>1</td>\n",
       "      <td>S2</td>\n",
       "      <td>3A</td>\n",
       "      <td>0</td>\n",
       "    </tr>\n",
       "    <tr>\n",
       "      <th>3</th>\n",
       "      <td>4</td>\n",
       "      <td>180000.0</td>\n",
       "      <td>6.261000e+09</td>\n",
       "      <td>Z62</td>\n",
       "      <td>4A</td>\n",
       "      <td>41</td>\n",
       "      <td>3</td>\n",
       "      <td>4</td>\n",
       "      <td>E50</td>\n",
       "      <td>B</td>\n",
       "      <td>1</td>\n",
       "      <td>0</td>\n",
       "      <td>0</td>\n",
       "      <td>S3</td>\n",
       "      <td>1A</td>\n",
       "      <td>0</td>\n",
       "    </tr>\n",
       "    <tr>\n",
       "      <th>4</th>\n",
       "      <td>5</td>\n",
       "      <td>443600.0</td>\n",
       "      <td>1.461500e+09</td>\n",
       "      <td>Z31</td>\n",
       "      <td>3A</td>\n",
       "      <td>22</td>\n",
       "      <td>6</td>\n",
       "      <td>7</td>\n",
       "      <td>E100</td>\n",
       "      <td>A</td>\n",
       "      <td>2</td>\n",
       "      <td>0</td>\n",
       "      <td>1</td>\n",
       "      <td>S4</td>\n",
       "      <td>4A</td>\n",
       "      <td>1</td>\n",
       "    </tr>\n",
       "  </tbody>\n",
       "</table>\n",
       "</div>"
      ],
      "text/plain": [
       "   row.labels  totalprice          area zone category  age  floor  rooms  \\\n",
       "0           1    228000.0  7.531000e+09  Z45       4B   33      3      5   \n",
       "1           2    409000.0  1.006500e+09  Z31       3B    5      7      5   \n",
       "2           3    200000.0  8.887000e+09  Z52       3A   14      8      5   \n",
       "3           4    180000.0  6.261000e+09  Z62       4A   41      3      4   \n",
       "4           5    443600.0  1.461500e+09  Z31       3A   22      6      7   \n",
       "\n",
       "    out conservation  toilets  garage  elevator streetcategory heating  tras  \n",
       "0  E100            C        1       0         1             S3      3A     0  \n",
       "1   E50            A        2       1         1             S5      4A     1  \n",
       "2   E50            A        2       0         1             S2      3A     0  \n",
       "3   E50            B        1       0         0             S3      1A     0  \n",
       "4  E100            A        2       0         1             S4      4A     1  "
      ]
     },
     "execution_count": 2,
     "metadata": {},
     "output_type": "execute_result"
    }
   ],
   "source": [
    "df = pd.read_csv('victoria.csv')\n",
    "df.area = df.area.str.replace(',','.').astype('float64')\n",
    "df.conservation = df.conservation.str.replace('1A','A')\n",
    "df.conservation = df.conservation.str.replace('2A','B')\n",
    "df.conservation = df.conservation.str.replace('2B','C')\n",
    "df.conservation = df.conservation.str.replace('3A','C')\n",
    "df.totalprice = df.totalprice.str.replace(',','.').astype('float64')\n",
    "df.head()"
   ]
  },
  {
   "cell_type": "code",
   "execution_count": 3,
   "metadata": {},
   "outputs": [
    {
     "data": {
      "text/plain": [
       "row.labels        0\n",
       "totalprice        0\n",
       "area              0\n",
       "zone              0\n",
       "category          0\n",
       "age               0\n",
       "floor             0\n",
       "rooms             0\n",
       "out               0\n",
       "conservation      0\n",
       "toilets           0\n",
       "garage            0\n",
       "elevator          0\n",
       "streetcategory    0\n",
       "heating           0\n",
       "tras              0\n",
       "dtype: int64"
      ]
     },
     "execution_count": 3,
     "metadata": {},
     "output_type": "execute_result"
    }
   ],
   "source": [
    "df.isnull().sum()"
   ]
  },
  {
   "cell_type": "markdown",
   "metadata": {},
   "source": [
    "## II. Exploratory Data Analysis: Create summary of the dataset, with python function. (mean, median, modus, max, min, range)\n"
   ]
  },
  {
   "cell_type": "code",
   "execution_count": 4,
   "metadata": {},
   "outputs": [
    {
     "data": {
      "text/html": [
       "<div>\n",
       "<style scoped>\n",
       "    .dataframe tbody tr th:only-of-type {\n",
       "        vertical-align: middle;\n",
       "    }\n",
       "\n",
       "    .dataframe tbody tr th {\n",
       "        vertical-align: top;\n",
       "    }\n",
       "\n",
       "    .dataframe thead th {\n",
       "        text-align: right;\n",
       "    }\n",
       "</style>\n",
       "<table border=\"1\" class=\"dataframe\">\n",
       "  <thead>\n",
       "    <tr style=\"text-align: right;\">\n",
       "      <th></th>\n",
       "      <th>row.labels</th>\n",
       "      <th>totalprice</th>\n",
       "      <th>area</th>\n",
       "      <th>age</th>\n",
       "      <th>floor</th>\n",
       "      <th>rooms</th>\n",
       "      <th>toilets</th>\n",
       "      <th>garage</th>\n",
       "      <th>elevator</th>\n",
       "      <th>tras</th>\n",
       "    </tr>\n",
       "  </thead>\n",
       "  <tbody>\n",
       "    <tr>\n",
       "      <th>count</th>\n",
       "      <td>218.000000</td>\n",
       "      <td>218.000000</td>\n",
       "      <td>2.180000e+02</td>\n",
       "      <td>218.000000</td>\n",
       "      <td>218.000000</td>\n",
       "      <td>218.000000</td>\n",
       "      <td>218.000000</td>\n",
       "      <td>218.000000</td>\n",
       "      <td>218.000000</td>\n",
       "      <td>218.000000</td>\n",
       "    </tr>\n",
       "    <tr>\n",
       "      <th>mean</th>\n",
       "      <td>109.500000</td>\n",
       "      <td>280741.523853</td>\n",
       "      <td>5.718657e+09</td>\n",
       "      <td>19.899083</td>\n",
       "      <td>4.440367</td>\n",
       "      <td>4.853211</td>\n",
       "      <td>1.467890</td>\n",
       "      <td>0.243119</td>\n",
       "      <td>0.798165</td>\n",
       "      <td>0.807339</td>\n",
       "    </tr>\n",
       "    <tr>\n",
       "      <th>std</th>\n",
       "      <td>63.075352</td>\n",
       "      <td>69298.459358</td>\n",
       "      <td>3.455007e+09</td>\n",
       "      <td>14.595590</td>\n",
       "      <td>2.126988</td>\n",
       "      <td>0.634285</td>\n",
       "      <td>0.500116</td>\n",
       "      <td>0.450881</td>\n",
       "      <td>0.402293</td>\n",
       "      <td>0.406787</td>\n",
       "    </tr>\n",
       "    <tr>\n",
       "      <th>min</th>\n",
       "      <td>1.000000</td>\n",
       "      <td>155000.000000</td>\n",
       "      <td>5.300000e+01</td>\n",
       "      <td>1.000000</td>\n",
       "      <td>1.000000</td>\n",
       "      <td>3.000000</td>\n",
       "      <td>1.000000</td>\n",
       "      <td>0.000000</td>\n",
       "      <td>0.000000</td>\n",
       "      <td>0.000000</td>\n",
       "    </tr>\n",
       "    <tr>\n",
       "      <th>25%</th>\n",
       "      <td>55.250000</td>\n",
       "      <td>228500.000000</td>\n",
       "      <td>1.187250e+09</td>\n",
       "      <td>11.000000</td>\n",
       "      <td>3.000000</td>\n",
       "      <td>5.000000</td>\n",
       "      <td>1.000000</td>\n",
       "      <td>0.000000</td>\n",
       "      <td>1.000000</td>\n",
       "      <td>1.000000</td>\n",
       "    </tr>\n",
       "    <tr>\n",
       "      <th>50%</th>\n",
       "      <td>109.500000</td>\n",
       "      <td>269750.000000</td>\n",
       "      <td>7.118500e+09</td>\n",
       "      <td>16.000000</td>\n",
       "      <td>4.000000</td>\n",
       "      <td>5.000000</td>\n",
       "      <td>1.000000</td>\n",
       "      <td>0.000000</td>\n",
       "      <td>1.000000</td>\n",
       "      <td>1.000000</td>\n",
       "    </tr>\n",
       "    <tr>\n",
       "      <th>75%</th>\n",
       "      <td>163.750000</td>\n",
       "      <td>328625.000000</td>\n",
       "      <td>8.542750e+09</td>\n",
       "      <td>24.000000</td>\n",
       "      <td>5.000000</td>\n",
       "      <td>5.000000</td>\n",
       "      <td>2.000000</td>\n",
       "      <td>0.000000</td>\n",
       "      <td>1.000000</td>\n",
       "      <td>1.000000</td>\n",
       "    </tr>\n",
       "    <tr>\n",
       "      <th>max</th>\n",
       "      <td>218.000000</td>\n",
       "      <td>560000.000000</td>\n",
       "      <td>9.992000e+09</td>\n",
       "      <td>118.000000</td>\n",
       "      <td>12.000000</td>\n",
       "      <td>7.000000</td>\n",
       "      <td>2.000000</td>\n",
       "      <td>2.000000</td>\n",
       "      <td>1.000000</td>\n",
       "      <td>2.000000</td>\n",
       "    </tr>\n",
       "  </tbody>\n",
       "</table>\n",
       "</div>"
      ],
      "text/plain": [
       "       row.labels     totalprice          area         age       floor  \\\n",
       "count  218.000000     218.000000  2.180000e+02  218.000000  218.000000   \n",
       "mean   109.500000  280741.523853  5.718657e+09   19.899083    4.440367   \n",
       "std     63.075352   69298.459358  3.455007e+09   14.595590    2.126988   \n",
       "min      1.000000  155000.000000  5.300000e+01    1.000000    1.000000   \n",
       "25%     55.250000  228500.000000  1.187250e+09   11.000000    3.000000   \n",
       "50%    109.500000  269750.000000  7.118500e+09   16.000000    4.000000   \n",
       "75%    163.750000  328625.000000  8.542750e+09   24.000000    5.000000   \n",
       "max    218.000000  560000.000000  9.992000e+09  118.000000   12.000000   \n",
       "\n",
       "            rooms     toilets      garage    elevator        tras  \n",
       "count  218.000000  218.000000  218.000000  218.000000  218.000000  \n",
       "mean     4.853211    1.467890    0.243119    0.798165    0.807339  \n",
       "std      0.634285    0.500116    0.450881    0.402293    0.406787  \n",
       "min      3.000000    1.000000    0.000000    0.000000    0.000000  \n",
       "25%      5.000000    1.000000    0.000000    1.000000    1.000000  \n",
       "50%      5.000000    1.000000    0.000000    1.000000    1.000000  \n",
       "75%      5.000000    2.000000    0.000000    1.000000    1.000000  \n",
       "max      7.000000    2.000000    2.000000    1.000000    2.000000  "
      ]
     },
     "execution_count": 4,
     "metadata": {},
     "output_type": "execute_result"
    }
   ],
   "source": [
    "df.describe()"
   ]
  },
  {
   "cell_type": "markdown",
   "metadata": {},
   "source": [
    "## III. Data Visualization: Create any kind suitable plot of dataset, it will provide a lot of insight into the problem.\n"
   ]
  },
  {
   "cell_type": "markdown",
   "metadata": {},
   "source": [
    "### Seperate data type, numerical and categorical"
   ]
  },
  {
   "cell_type": "code",
   "execution_count": 5,
   "metadata": {},
   "outputs": [],
   "source": [
    "def list_dtypes(df):\n",
    "    categorical_list = []\n",
    "    numerical_list = []\n",
    "    for col in df.columns.tolist():\n",
    "        if df[col].dtype=='object':\n",
    "            categorical_list.append(col)\n",
    "        else:\n",
    "            numerical_list.append(col)\n",
    "    print('Number of categorical features:', str(len(categorical_list)))\n",
    "    print('Number of numerical features:', str(len(numerical_list)))\n",
    "\n",
    "    return categorical_list, numerical_list"
   ]
  },
  {
   "cell_type": "code",
   "execution_count": 6,
   "metadata": {},
   "outputs": [
    {
     "name": "stdout",
     "output_type": "stream",
     "text": [
      "Number of categorical features: 6\n",
      "Number of numerical features: 10\n"
     ]
    }
   ],
   "source": [
    "categorical_list, numerical_list = list_dtypes(df)"
   ]
  },
  {
   "cell_type": "code",
   "execution_count": 7,
   "metadata": {},
   "outputs": [],
   "source": [
    "def strong_corr(df, ycol=None):\n",
    "    '''\n",
    "    Documentation :\n",
    "    --------------\n",
    "    * Df   : Dataset name\n",
    "    * ycol : The target column of the dataframe\n",
    "    '''\n",
    "    df_num_corr = df.corr()[ycol][:-1] # -1 because the latest row is SalePrice\n",
    "    strong_corr = df_num_corr[abs(df_num_corr) > 0.6].sort_values(ascending=False)\n",
    "    corr = pd.Series(strong_corr, name='Strong Correlation')\n",
    "    table = pd.concat([corr], axis = 1) \n",
    "    print ('Columns have strong correlation :')\n",
    "    print(table)\n",
    "    list_features = table.index.values \n",
    "    \n",
    "    return list_features"
   ]
  },
  {
   "cell_type": "code",
   "execution_count": 8,
   "metadata": {},
   "outputs": [
    {
     "name": "stdout",
     "output_type": "stream",
     "text": [
      "Columns have strong correlation :\n",
      "            Strong Correlation\n",
      "totalprice            1.000000\n",
      "toilets               0.687571\n"
     ]
    }
   ],
   "source": [
    "#Strong Correlation \n",
    "# 1. define df\n",
    "dataframe = df\n",
    "\n",
    "# 2. define target of df\n",
    "ycol = 'totalprice'\n",
    "\n",
    "# 3. Strong Correlation \n",
    "list_features = strong_corr(dataframe,ycol)"
   ]
  },
  {
   "cell_type": "code",
   "execution_count": 9,
   "metadata": {},
   "outputs": [],
   "source": [
    "#Univariat Analisys\n",
    "def Univariate_plot(df, column, vartype, hue = None ):\n",
    "    '''\n",
    "    Documentation :\n",
    "    Univariate function will plot the graphs based on the parameters.\n",
    "    * df      : dataframe name\n",
    "    * column  : Column name\n",
    "    * vartype : variable type : continuos or categorical\n",
    "                (0) Continuos/Numerical   : Distribution, Violin & Boxplot will be plotted.\n",
    "                (1) Categorical           : Countplot will be plotted.\n",
    "    * hue     : It's only applicable for categorical analysis.\n",
    "    '''\n",
    "    sns.set(style=\"darkgrid\")\n",
    "      \n",
    "    if vartype == 0:\n",
    "        fig, ax=plt.subplots(nrows = 3, ncols=1,figsize=(12,12))\n",
    "        # Distribution Plot\n",
    "        ax[0].set_title(\"Distribution Plot\",fontsize = 10)\n",
    "        sns.distplot(df[column], kde=False, fit=stats.gamma, color='darkblue', label = column, ax=ax[0])\n",
    "        \n",
    "        # Violinplot \n",
    "        ax[1].set_title(\"Violin Plot\",fontsize = 10)\n",
    "        sns.violinplot(data= df, x=column, color = 'limegreen', inner=\"quartile\", orient='h', ax=ax[1])\n",
    "        \n",
    "        #Boxplot\n",
    "        ax[2].set_title(\"Box Plot\",fontsize = 10)\n",
    "        sns.boxplot(data =df, x=col,color='cyan',orient=\"h\",ax=ax[2])\n",
    "        \n",
    "        fig.tight_layout()\n",
    "        \n",
    "    if vartype == 1 :\n",
    "        #Count plot \n",
    "        fig = plt.figure(figsize=(12,6))\n",
    "        plt.title('Count Plot',fontsize = 20)\n",
    "        ax=sns.countplot(data=df, x=column, palette=\"Blues_r\")\n",
    "        ax.set_xlabel(column, fontsize = 15)\n",
    "        ax.tick_params(labelsize=12)"
   ]
  },
  {
   "cell_type": "markdown",
   "metadata": {},
   "source": [
    "### Plot for numerical feature"
   ]
  },
  {
   "cell_type": "code",
   "execution_count": 10,
   "metadata": {},
   "outputs": [
    {
     "data": {
      "image/png": "[encoded data removed]",
      "text/plain": [
       "<matplotlib.figure.Figure at 0x1c100ab2e8>"
      ]
     },
     "metadata": {},
     "output_type": "display_data"
    }
   ],
   "source": [
    "# 1. Define Dataframe\n",
    "dataframe = df\n",
    "\n",
    "# 2. Define feature\n",
    "col = 'totalprice'\n",
    "\n",
    "# 3. Vartype \n",
    "var_type = 0   \n",
    " \n",
    "#Visualization\n",
    "Univariate_plot(df=dataframe,column = col, vartype = var_type )"
   ]
  },
  {
   "cell_type": "markdown",
   "metadata": {},
   "source": [
    "### Plot for categorical feature"
   ]
  },
  {
   "cell_type": "code",
   "execution_count": 11,
   "metadata": {},
   "outputs": [
    {
     "data": {
      "image/png": "[encoded data removed]",
      "text/plain": [
       "<matplotlib.figure.Figure at 0x1c19193278>"
      ]
     },
     "metadata": {},
     "output_type": "display_data"
    }
   ],
   "source": [
    "# 1. Define Dataframe\n",
    "dataframe =df\n",
    "\n",
    "# 2. Define feature\n",
    "col = 'category'\n",
    "\n",
    "# 3. Vartype \n",
    "var_type = 1   \n",
    " \n",
    "#Visualization\n",
    "Univariate_plot(df=dataframe,column = col, vartype = var_type )"
   ]
  },
  {
   "cell_type": "markdown",
   "metadata": {},
   "source": [
    "### Plot bivariate, toilets and totalprice"
   ]
  },
  {
   "cell_type": "code",
   "execution_count": 12,
   "metadata": {},
   "outputs": [
    {
     "data": {
      "text/plain": [
       "<matplotlib.axes._subplots.AxesSubplot at 0x1c102166d8>"
      ]
     },
     "execution_count": 12,
     "metadata": {},
     "output_type": "execute_result"
    },
    {
     "data": {
      "image/png": "[encoded data removed]",
      "text/plain": [
       "<matplotlib.figure.Figure at 0x1c1b563780>"
      ]
     },
     "metadata": {},
     "output_type": "display_data"
    }
   ],
   "source": [
    "sns.regplot(x='toilets', y='totalprice', data=df)"
   ]
  },
  {
   "cell_type": "code",
   "execution_count": 13,
   "metadata": {},
   "outputs": [],
   "source": [
    "def multivariate(df, column):\n",
    "    corrMatt = df[column].corr()\n",
    "    mask = np.array(corrMatt)\n",
    "    mask[np.tril_indices_from(mask)] = False\n",
    "    fig,ax= plt.subplots(figsize=(15,12))\n",
    "    fig.set_size_inches(20,5)\n",
    "    sns.heatmap(corrMatt, mask=mask,vmax=0.9, square=True,annot=True)"
   ]
  },
  {
   "cell_type": "code",
   "execution_count": 14,
   "metadata": {},
   "outputs": [
    {
     "data": {
      "image/png": "[encoded data removed]",
      "text/plain": [
       "<matplotlib.figure.Figure at 0x1c100a5550>"
      ]
     },
     "metadata": {},
     "output_type": "display_data"
    }
   ],
   "source": [
    "# 1. Define Dataframe\n",
    "dataframe = df\n",
    "\n",
    "# 2. Define Column\n",
    "colname = numerical_list\n",
    "\n",
    "# 3. Visualization \n",
    "multivariate(dataframe, colname)"
   ]
  },
  {
   "cell_type": "markdown",
   "metadata": {},
   "source": [
    "### IV. Variable Selection: Choose the variable and its reason.\n"
   ]
  },
  {
   "cell_type": "markdown",
   "metadata": {},
   "source": [
    "variable that has been choose are elevator, garage, rooms, and toilets. because of the correlation are relative high than other's."
   ]
  },
  {
   "cell_type": "code",
   "execution_count": 15,
   "metadata": {},
   "outputs": [],
   "source": [
    "X = df[['garage', 'elevator', 'rooms', 'toilets']]\n",
    "y = df.totalprice"
   ]
  },
  {
   "cell_type": "markdown",
   "metadata": {},
   "source": [
    "### V. Modelling: Create models using Regression\n"
   ]
  },
  {
   "cell_type": "code",
   "execution_count": 16,
   "metadata": {},
   "outputs": [
    {
     "name": "stdout",
     "output_type": "stream",
     "text": [
      "(152, 4) (152,)\n",
      "(66, 4) (66,)\n"
     ]
    }
   ],
   "source": [
    "from sklearn.linear_model import LinearRegression\n",
    "from sklearn.model_selection import train_test_split\n",
    "from sklearn.metrics import accuracy_score\n",
    " \n",
    "X_train, X_test, y_train, y_test = train_test_split(X, y, test_size=0.3)\n",
    "print(X_train.shape, y_train.shape)\n",
    "print(X_test.shape, y_test.shape)"
   ]
  },
  {
   "cell_type": "code",
   "execution_count": 17,
   "metadata": {},
   "outputs": [],
   "source": [
    "model = LinearRegression().fit(X_train, y_train)\n",
    "y_pred = model.predict(X_test)"
   ]
  },
  {
   "cell_type": "markdown",
   "metadata": {},
   "source": [
    "### VI. Accuracy or Error: Calculate the Error using the helper function from the library, from dataset only\n"
   ]
  },
  {
   "cell_type": "code",
   "execution_count": 18,
   "metadata": {},
   "outputs": [
    {
     "name": "stdout",
     "output_type": "stream",
     "text": [
      "Nilai RMSE : 41878.65\n"
     ]
    }
   ],
   "source": [
    "from sklearn.metrics import mean_squared_error\n",
    "from math import sqrt\n",
    "\n",
    "RMSE = sqrt(mean_squared_error(y_test, y_pred))\n",
    "print('Nilai RMSE : %.2f' % (RMSE))"
   ]
  },
  {
   "cell_type": "code",
   "execution_count": null,
   "metadata": {},
   "outputs": [],
   "source": []
  }
 ],
 "metadata": {
  "kernelspec": {
   "display_name": "Python 3",
   "language": "python",
   "name": "python3"
  },
  "language_info": {
   "codemirror_mode": {
    "name": "ipython",
    "version": 3
   },
   "file_extension": ".py",
   "mimetype": "text/x-python",
   "name": "python",
   "nbconvert_exporter": "python",
   "pygments_lexer": "ipython3",
   "version": "3.6.4"
  }
 },
 "nbformat": 4,
 "nbformat_minor": 2
}
